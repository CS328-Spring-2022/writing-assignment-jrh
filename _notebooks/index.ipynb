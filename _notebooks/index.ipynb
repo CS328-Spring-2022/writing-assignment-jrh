{
 "cells": [
  {
   "cell_type": "markdown",
   "metadata": {},
   "source": [
    "<h1><center>Topic Name</center></h1>\n",
    "<h4><center>\n",
    "<a style=\"text-decoration:none\" href=\"https://author1.github.io/\">Author 1</a>, IIT Gandhinagar, <a style=\"text-decoration:none\" href=\"mailto:<author1>@iitgn.ac.in\">author1@iitgn.ac.in</a>\n",
    "<br><br>\n",
    "<a style=\"text-decoration:none\" href=\"https://author2.github.io/\">Author 2</a>, IIT Gandhinagar, <a style=\"text-decoration:none\" href=\"mailto:<author2>@iitgn.ac.in\">author2@iitgn.ac.in</a>\n",
    "<br><br>\n",
    "<a style=\"text-decoration:none\" href=\"https://author3.github.io/\">Author 3</a>, IIT Gandhinagar, <a style=\"text-decoration:none\" href=\"mailto:<author3>@iitgn.ac.in\">author3@iitgn.ac.in</a>\n",
    "</center></h4>"
   ]
  },
  {
   "cell_type": "markdown",
   "metadata": {},
   "source": [
    "[![Repo](https://img.shields.io/badge/GitHub-<repo_name>-brightgreen)](https://github.com/<repo_user>/<repo_name>)"
   ]
  },
  {
   "cell_type": "markdown",
   "metadata": {},
   "source": [
    "# World  Inequality\n",
    "\n",
    "The economic inequalities observed over the past few decades were mainly driven by rise in income and wealth accruing at the most influential people of the world. Most of the surveys cannot provide detailed and adequate information regarding the richest and poorest people in the world. \n",
    "\n",
    "So, we would like to analyse this [dataset](https://wid.world/) and overcome the difficulty of precisely tracking the evolution of all **income, wealth and Carbon** inequalities over past few decades.\n",
    "\n",
    "**Income Inequality**\n",
    "\n",
    "The [dataset](https://wid.world/world/#sptinc_p90p100_z/US;FR;DE;CN;ZA;GB;WO/last/us/k/p/yearly/s/false/23.469/80/curve/false/country)\n",
    " we acquired is one of the most reliable sources showcasing the world income inequality trends covering the whole population and different regions all over the world. Below is the plot for Average income per adult from 1950 to 2020.\n",
    "\n"
   ]
  },
  {
   "cell_type": "code",
   "execution_count": null,
   "metadata": {
    "vscode": {
     "languageId": "plaintext"
    }
   },
   "outputs": [],
   "source": [
    "import pandas as pd\n",
    "import numpy as np\n",
    "import matplotlib.pyplot as plt\n",
    "\n",
    "df=pd.read_csv(\"avg_inc.csv\")\n",
    "# print(df.head())\n",
    "# print(df.describe())\n",
    "# print(df.loc[45])\n",
    "df.plot(x=\"Year\",y=[\"Africa\",\"Asia\",\"America\",\"Europe\",\"Australia and New Zealand\",\"World\",\"India\"],figsize=(9, 6))\n",
    "plt.title(\"Average Income over the Years\")\n",
    "plt.show()"
   ]
  },
  {
   "cell_type": "code",
   "execution_count": null,
   "metadata": {
    "vscode": {
     "languageId": "plaintext"
    }
   },
   "outputs": [],
   "source": [
    "Australia and New Zealand per adult National Income rose by 25000 dollars. The next highest increase in income can be observed in Europe(by approximately 22500 dollars) and then followed by North America(by approximately 15000 dollars).\n",
    "Where as the regions like India,Asia and Africa showing very less significant change in income.\n",
    "\n",
    "Thus, developing economies like Asia and Africa slowed down the process of growth of average income of the world"
   ]
  },
  {
   "cell_type": "code",
   "execution_count": null,
   "metadata": {
    "vscode": {
     "languageId": "plaintext"
    }
   },
   "outputs": [],
   "source": [
    "import pandas as pd\n",
    "import numpy as np\n",
    "import matplotlib.pyplot as plt\n",
    "\n",
    "df=pd.read_csv(\"top_ten_percent.csv\")\n",
    "# print(df.head())\n",
    "# print(df.describe())\n",
    "# print(df.loc[45])\n",
    "df.plot(x=\"Year\",y=[\"Russia\",\"China\",\"Europe\",\"USA\",\"India\"],figsize=(9, 5))\n",
    "plt.title(\"Top_10_Percent\")\n",
    "plt.show()"
   ]
  },
  {
   "cell_type": "markdown",
   "metadata": {},
   "source": [
    "Now, let us observe and analyse rising inequality in some of the world’s most populated regions. From the above plot, we can deduce these informative points.\n",
    "The top 10% share showed an up run in all these 5 regions since 1980. \n",
    "After world war 2, many countries suffered a lot economically despite their many differences. So we have been analysing the data since 1980. In India,Europe, China and USA top 10 % share was around 25-25 % where as it was only 20-25% in Russia.\n",
    "Excluding Europe all the other regions showed a significant rise in top 10% share. The increase in % is higher in Russia and India which is approximately 25%. In North America,China, India and also in Russia the policy regime was quite dramtic. The rise in these income inequalities over the time implies that government economic policies and institutions matter.\n",
    "However, we can takeaway the fact that Inida has highest top 10% income share \n",
    "followed by Russia From the selected regions.\n",
    "\n"
   ]
  },
  {
   "cell_type": "code",
   "execution_count": null,
   "metadata": {
    "vscode": {
     "languageId": "plaintext"
    }
   },
   "outputs": [],
   "source": [
    "import pandas as pd\n",
    "import numpy as np\n",
    "import matplotlib.pyplot as plt\n",
    "\n",
    "df=pd.read_csv(\"top_1%_asia.csv\")\n",
    "df_2=pd.read_csv(\"bottom_50_asia.csv\")\n",
    "# print(df.head())\n",
    "# print(df.describe())\n",
    "# print(df.loc[45])\n",
    "# plt.plot(x=df[\"Year\"],y=df[\"Asia\"],marker=\"o\")\n",
    "# plt.plot(x=\"Year\",y=\"Asia\",marker=\"o\")\n",
    "# plt.title(\"vs\")\n",
    "# plt.show()\n",
    "x=pd.Series(df['Year'])\n",
    "y=pd.Series(df['Asia'])\n",
    "y_2=pd.Series(df_2['Asia'])\n",
    "plt.figure(figsize=(12, 5))\n",
    "plt.plot(x,y,marker=\"s\",label=\"Income of top 1%\")\n",
    "plt.plot(x,y_2,marker=\"s\",label=\"Income of bottom 50%\")\n",
    "leg=plt.legend()\n",
    "plt.title(\"Data for Asia\")\n",
    "plt.show()"
   ]
  },
  {
   "cell_type": "markdown",
   "metadata": {},
   "source": [
    "**Income Inequality in Asia**\n",
    "\n",
    "Now,Let us observe and analyse the different growth and income inequality patterns in asia for the past few decades.\n",
    "The plot of Top 1% Income share versus bottom 50% Income share is depicted below.\n",
    "\n",
    "The income inequality is features a convergence trend is Asia. This is quite intriguing because the income inequality within the developing countries like China and India were rising significantly.\n",
    "In these two emerging economies the Top 1% income share almost doubled in the past three decades but from the plot we can infer that top 1 % share was fallen by 2% and bottom 50% income share fell only 0.5%. This signifies the financial and economical development in the middle class sector in Asia. \n",
    "\n",
    "This contrasting decrease of inequality trend in Asia despite the several irregular patterns of change in inequalities within Asia suggests a great economic convergence among Asian economies . \n"
   ]
  },
  {
   "cell_type": "markdown",
   "metadata": {},
   "source": [
    "\n",
    "## Describing global economic inequality using wealth indicator\n",
    "\n",
    "Global wealth inequalities are more evident than income inequality, and net household wealth involves calculating financial assets, non-financial assets and net debts. The total global average wealth reported in 2021 is 79,95 dollars  and a total of approximately 418.3 trillion by the end of the year 2020. In a perfect world, with around 7.9 billion, everyone can have 51,492 dollars each.But, it is not the case. The world's global wealth is distributed very non uniformly among the population. The top 1% share of wealth holders captures over 47 per cent of the global household wealth, and the bottom 70% share of the wealth-holders are considered as the global lower class capturing over 3% of the global wealth. The average wealth of the country has increased over the time as shown in the below plot.\n",
    "\n",
    "\n",
    "We will look into some aspects of world inequality using this wealth-based data of different regions and different time periods.\n",
    "\n"
   ]
  },
  {
   "cell_type": "code",
   "execution_count": null,
   "metadata": {
    "vscode": {
     "languageId": "plaintext"
    }
   },
   "outputs": [],
   "source": [
    "import pandas as pd\n",
    "import numpy as np\n",
    "import matplotlib.pyplot as plt\n",
    "\n",
    "df=pd.read_csv(\"annual_wealth.csv\")\n",
    "# print(df.head())\n",
    "# print(df.describe())\n",
    "# print(df.loc[45])\n",
    "df.plot(x=\"Year\",y=\"World\",figsize=(9, 10))\n",
    "plt.title(\"Avg_wealth\")\n",
    "plt.show()"
   ]
  },
  {
   "cell_type": "code",
   "execution_count": null,
   "metadata": {
    "vscode": {
     "languageId": "plaintext"
    }
   },
   "outputs": [],
   "source": [
    "import pandas as pd\n",
    "import numpy as np\n",
    "import matplotlib.pyplot as plt\n",
    "\n",
    "df=pd.read_csv(\"public_vs_private.csv\")\n",
    "# print(df.head())\n",
    "# print(df.describe())\n",
    "# print(df.loc[45])\n",
    "df.plot(x=\"Year\",y=[\"usa_personal\",\"france_personal\",\"uk_personal\",\"india_personal\",\"china_personal\",\"usa_public\",\"france_public\",\"uk_public\",\"india_public\",\"china_public\"],figsize=(9, 5))\n",
    "plt.title(\"Public vs Private wealth with time\")\n",
    "plt.show()"
   ]
  },
  {
   "cell_type": "markdown",
   "metadata": {},
   "source": [
    "### As the countries have become richer, governments wealth have fallen.\n",
    "\n",
    "\n",
    "Over time, countries grew wealthier, and their economic wealth has increased. It doesn’t mean the governments are becoming more prosperous. The public wealth is degrading and it is overtaken by the private sector.\n",
    "\n",
    "In the above plot, The private wealth of all the regions is increasing over time, and the public wealth of different regions is almost decreasing . This depicts the increase in inequality within the region or country over time. It shows that the government is becoming poorer and there is a large gap between the net government wealth and the private sector. This situation endangers the country's fate during any economic crisis as the government should depend on these private conglomerates to revive from difficult situations based on the wealth of these private entities.\n"
   ]
  },
  {
   "cell_type": "code",
   "execution_count": null,
   "metadata": {
    "vscode": {
     "languageId": "plaintext"
    }
   },
   "outputs": [],
   "source": [
    "import pandas as pd\n",
    "import numpy as np\n",
    "import matplotlib.pyplot as plt\n",
    "\n",
    "df=pd.read_csv(\"Bar.csv\")\n",
    "df.plot(x=\"Names\",y=[\"Top 10%\",\"Bottom 50%\",\"Top 1%\"],kind=\"bar\",figsize=(10,5))\n",
    "plt.title(\"Comparision\")\n",
    "plt.show()"
   ]
  },
  {
   "cell_type": "markdown",
   "metadata": {},
   "source": [
    "## Wealth distribution between different countries/regions\n",
    "\n",
    "We now analyse the inequality of different countries/regions based on the above plot. There are wealth distribution shares of the top 1%, top 10%, and bottom 40% shares of different regions in the above plot. We can see that the top 10% captures 60-80% of the total region wealth in all the regions. This implies the hierarchical private wealth domination irrespective of the government and approach to economic development in all these countries, which resulted in regional inequality within the countries proving irregular financial wealth distributions.\n",
    "\n",
    "\n",
    " These distributions are also seen in the world's wealthiest regions like America, Europe e.t.c.The middle 40% share for some countries is around 20-30% based on the remaining share calculated. This share is approximately 40% in Europe, implying that the middle-class population's wealth is closer to the average wealth distribution of that country. The top 1% in Asia is closer to the top 10% share, showing that there are wealthy people in Asia. The gap between top 10% bar and the bottom 50% share bar is very large, exposing the highest economic wealth inequality in Asia.\n",
    "\n",
    "\n"
   ]
  },
  {
   "cell_type": "markdown",
   "metadata": {},
   "source": [
    "**Carbon Inequality**\n",
    "\n",
    "Green House gases are dangerous pollutants and are primary constituents for Global warming.\n",
    "According to World Inequality the green house gases capacity reached 50 billion tonnes in 2019. Covid outbreak was not good for humans but it was definitely good for the environment. Pollution levels decreased drastically, Natural Water resources purity increased and so on. \n",
    "So let us understand and analyse the carbon footprint for the year 2020 from the plot below.\n",
    "The below plot is made using the [dataset](https://https://wid.world/data/).\n",
    "\n"
   ]
  },
  {
   "cell_type": "code",
   "execution_count": null,
   "metadata": {
    "vscode": {
     "languageId": "plaintext"
    }
   },
   "outputs": [],
   "source": [
    "import pandas as pd\n",
    "import numpy as np\n",
    "import matplotlib.pyplot as plt\n",
    "from matplotlib.animation import FuncAnimation\n",
    "from time import sleep\n",
    "df=pd.read_csv(\"carbon_fp.csv\")\n",
    "df_2=pd.read_csv(\"carbon_fp_1.csv\")\n",
    "df_2.plot(x=\"Names\",y=[\"2020\"],kind=\"bar\")\n",
    "plt.title(\"Carbon Foot Print for year 2020\")\n",
    "plt.show()\n",
    "# for i in range(40):\n",
    "#   df_2.plot(x=\"Names\",y=[str(1980+i)],kind=\"bar\")\n",
    "#   plt.pause(0.001)\n",
    "# plt.show()\n",
    "label=df_2['Names'].tolist()\n",
    "plt.title(\"Carbon Foot Print for year 2020\")\n",
    "plt.pie(np.array(df.iloc[40][1:7]),labels=label,autopct='%1.1f%%')\n",
    "plt.show"
   ]
  },
  {
   "cell_type": "markdown",
   "metadata": {},
   "source": [
    "Inequalities in Average income and average carbon emissions have a good correlation. Also there is a connection between per capita income and emissions in most regions.\n",
    "\n",
    "In 2020, world nearly produced **43 billion tonnes**.  Out of which the major contribution is from Asia(25 billion tonnes). This is quite obvious because Asia has many developing countries with a huge population.\n",
    "Europe, North America and Africa are territorially large continents but their contribution is pretty low(17 billion tonnes combined). Here we considered carbon foot prints rather than territorial emissions. \n",
    "\n",
    "So, for example, when Asians import Semiconductors and electronics from Europe, the carbon emissions created in the production, transport and sale of those  Semiconductors and electronics are attributed to Asians and not to Europeans.\n",
    "\n"
   ]
  }
 ],
 "metadata": {
  "language_info": {
   "name": "python"
  },
  "orig_nbformat": 4
 },
 "nbformat": 4,
 "nbformat_minor": 2
}
